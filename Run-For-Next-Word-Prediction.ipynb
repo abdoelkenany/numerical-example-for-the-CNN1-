{
 "cells": [
  {
   "cell_type": "markdown",
   "metadata": {},
   "source": [
    "<a href=\"https://www.kaggle.com/code/moazawadali/rnn-for-next-word-prediction?scriptVersionId=236704453\" target=\"_blank\"><img align=\"left\" alt=\"Kaggle\" title=\"Open in Kaggle\" src=\"https://kaggle.com/static/images/open-in-kaggle.svg\"></a>"
   ]
  },
  {
   "cell_type": "code",
   "execution_count": 3,
   "id": "f26b7b27",
   "metadata": {
    "_cell_guid": "b1076dfc-b9ad-4769-8c92-a6c4dae69d19",
    "_uuid": "8f2839f25d086af736a60e9eeb907d3b93b6e0e5",
    "execution": {
     "iopub.execute_input": "2025-04-28T23:04:04.239459Z",
     "iopub.status.busy": "2025-04-28T23:04:04.239047Z",
     "iopub.status.idle": "2025-04-28T23:04:19.931631Z",
     "shell.execute_reply": "2025-04-28T23:04:19.931035Z"
    },
    "papermill": {
     "duration": 15.697166,
     "end_time": "2025-04-28T23:04:19.933052",
     "exception": false,
     "start_time": "2025-04-28T23:04:04.235886",
     "status": "completed"
    },
    "tags": []
   },
   "outputs": [
    {
     "name": "stderr",
     "output_type": "stream",
     "text": [
      "2025-04-28 23:04:06.426549: E external/local_xla/xla/stream_executor/cuda/cuda_fft.cc:477] Unable to register cuFFT factory: Attempting to register factory for plugin cuFFT when one has already been registered\n",
      "WARNING: All log messages before absl::InitializeLog() is called are written to STDERR\n",
      "E0000 00:00:1745881446.693827      19 cuda_dnn.cc:8310] Unable to register cuDNN factory: Attempting to register factory for plugin cuDNN when one has already been registered\n",
      "E0000 00:00:1745881446.772658      19 cuda_blas.cc:1418] Unable to register cuBLAS factory: Attempting to register factory for plugin cuBLAS when one has already been registered\n"
     ]
    }
   ],
   "source": [
    "import numpy as np\n",
    "import tensorflow as tf\n",
    "from tensorflow.keras.models import Sequential\n",
    "from tensorflow.keras.layers import Embedding, LSTM, Dense\n",
    "from tensorflow.keras.preprocessing.text import Tokenizer\n",
    "from tensorflow.keras.preprocessing.sequence import pad_sequences\n",
    "import matplotlib.pyplot as plt"
   ]
  },
  {
   "cell_type": "code",
   "execution_count": 4,
   "id": "a7d63461",
   "metadata": {
    "execution": {
     "iopub.execute_input": "2025-04-28T23:04:19.941048Z",
     "iopub.status.busy": "2025-04-28T23:04:19.940272Z",
     "iopub.status.idle": "2025-04-28T23:04:19.944156Z",
     "shell.execute_reply": "2025-04-28T23:04:19.943654Z"
    },
    "papermill": {
     "duration": 0.008644,
     "end_time": "2025-04-28T23:04:19.945075",
     "exception": false,
     "start_time": "2025-04-28T23:04:19.936431",
     "status": "completed"
    },
    "tags": []
   },
   "outputs": [],
   "source": [
    "text = \"\"\"\n",
    "once upon a time there was a little girl who lived in a village near the forest\n",
    "she liked to wear a red coat with a hood that her grandmother had made for her\n",
    "everyone in the village called her little red riding hood one morning her mother asked\n",
    "her to visit grandmother who lived in the forest but warned her not to talk to strangers\n",
    "on her way little red riding hood met a wolf who asked where she was going\n",
    "the girl told the wolf about her grandmother who lived alone in the forest\n",
    "the wolf ran ahead to the grandmother house and pretended to be the little girl\n",
    "when little red riding hood arrived the wolf was waiting in the bed disguised as grandmother\n",
    "little red riding hood noticed something strange about her grandmother and said what big eyes you have\n",
    "the wolf replied all the better to see you with my dear\n",
    "\"\"\""
   ]
  },
  {
   "cell_type": "code",
   "execution_count": 5,
   "id": "23ff5842",
   "metadata": {
    "execution": {
     "iopub.execute_input": "2025-04-28T23:04:19.95181Z",
     "iopub.status.busy": "2025-04-28T23:04:19.951287Z",
     "iopub.status.idle": "2025-04-28T23:04:19.955812Z",
     "shell.execute_reply": "2025-04-28T23:04:19.955153Z"
    },
    "papermill": {
     "duration": 0.008911,
     "end_time": "2025-04-28T23:04:19.956821",
     "exception": false,
     "start_time": "2025-04-28T23:04:19.94791",
     "status": "completed"
    },
    "tags": []
   },
   "outputs": [
    {
     "name": "stdout",
     "output_type": "stream",
     "text": [
      "Total words in the corpus: 156\n",
      "First 10 words: ['once', 'upon', 'a', 'time', 'there', 'was', 'a', 'little', 'girl', 'who']\n"
     ]
    }
   ],
   "source": [
    "text = text.lower().replace('\\n', ' ')\n",
    "words = [word for word in text.split() if word.isalnum()]\n",
    "\n",
    "print(f\"Total words in the corpus: {len(words)}\")\n",
    "print(f\"First 10 words: {words[:10]}\")"
   ]
  },
  {
   "cell_type": "code",
   "execution_count": 6,
   "id": "b4dc596e",
   "metadata": {
    "execution": {
     "iopub.execute_input": "2025-04-28T23:04:19.963326Z",
     "iopub.status.busy": "2025-04-28T23:04:19.963103Z",
     "iopub.status.idle": "2025-04-28T23:04:19.967497Z",
     "shell.execute_reply": "2025-04-28T23:04:19.966822Z"
    },
    "papermill": {
     "duration": 0.00872,
     "end_time": "2025-04-28T23:04:19.968525",
     "exception": false,
     "start_time": "2025-04-28T23:04:19.959805",
     "status": "completed"
    },
    "tags": []
   },
   "outputs": [
    {
     "name": "stdout",
     "output_type": "stream",
     "text": [
      "Number of sequences: 153\n",
      "First 3 sequences: [['once', 'upon', 'a', 'time'], ['upon', 'a', 'time', 'there'], ['a', 'time', 'there', 'was']]\n"
     ]
    }
   ],
   "source": [
    "sequences = []\n",
    "for i in range(len(words) - 3):\n",
    "    sequences.append(words[i:i+4])\n",
    "\n",
    "print(f\"Number of sequences: {len(sequences)}\")\n",
    "print(f\"First 3 sequences: {sequences[:3]}\")"
   ]
  },
  {
   "cell_type": "code",
   "execution_count": 7,
   "id": "4160cec3",
   "metadata": {
    "execution": {
     "iopub.execute_input": "2025-04-28T23:04:19.974873Z",
     "iopub.status.busy": "2025-04-28T23:04:19.974682Z",
     "iopub.status.idle": "2025-04-28T23:04:19.979028Z",
     "shell.execute_reply": "2025-04-28T23:04:19.978316Z"
    },
    "papermill": {
     "duration": 0.008817,
     "end_time": "2025-04-28T23:04:19.980162",
     "exception": false,
     "start_time": "2025-04-28T23:04:19.971345",
     "status": "completed"
    },
    "tags": []
   },
   "outputs": [
    {
     "name": "stdout",
     "output_type": "stream",
     "text": [
      "Vocabulary size: 79\n",
      "Sample from vocabulary: [('the', 1), ('her', 2), ('to', 3), ('a', 4), ('little', 5)]\n"
     ]
    }
   ],
   "source": [
    "tokenizer = Tokenizer()\n",
    "tokenizer.fit_on_texts([' '.join(words)])\n",
    "word_index = tokenizer.word_index\n",
    "vocab_size = len(word_index) + 1  # +1 for the padding token\n",
    "\n",
    "print(f\"Vocabulary size: {vocab_size}\")\n",
    "print(f\"Sample from vocabulary: {list(word_index.items())[:5]}\")"
   ]
  },
  {
   "cell_type": "code",
   "execution_count": 8,
   "id": "f72952d2",
   "metadata": {
    "execution": {
     "iopub.execute_input": "2025-04-28T23:04:19.986713Z",
     "iopub.status.busy": "2025-04-28T23:04:19.986504Z",
     "iopub.status.idle": "2025-04-28T23:04:19.990835Z",
     "shell.execute_reply": "2025-04-28T23:04:19.990254Z"
    },
    "papermill": {
     "duration": 0.008803,
     "end_time": "2025-04-28T23:04:19.991854",
     "exception": false,
     "start_time": "2025-04-28T23:04:19.983051",
     "status": "completed"
    },
    "tags": []
   },
   "outputs": [
    {
     "name": "stdout",
     "output_type": "stream",
     "text": [
      "X shape: 153 sequences of length 3\n",
      "y shape: 153 words\n",
      "Sample X: [['once', 'upon', 'a'], ['upon', 'a', 'time'], ['a', 'time', 'there']]\n",
      "Sample y: ['time', 'there', 'was']\n"
     ]
    }
   ],
   "source": [
    "X = []  # input sequences (first 3 words)\n",
    "y = []  # target word (4th word)\n",
    "\n",
    "for seq in sequences:\n",
    "    X.append(seq[:3])\n",
    "    y.append(seq[3])\n",
    "\n",
    "print(f\"X shape: {len(X)} sequences of length 3\")\n",
    "print(f\"y shape: {len(y)} words\")\n",
    "print(f\"Sample X: {X[:3]}\")\n",
    "print(f\"Sample y: {y[:3]}\")"
   ]
  },
  {
   "cell_type": "code",
   "execution_count": 9,
   "id": "083897a2",
   "metadata": {
    "execution": {
     "iopub.execute_input": "2025-04-28T23:04:19.998469Z",
     "iopub.status.busy": "2025-04-28T23:04:19.998259Z",
     "iopub.status.idle": "2025-04-28T23:04:20.00304Z",
     "shell.execute_reply": "2025-04-28T23:04:20.002544Z"
    },
    "papermill": {
     "duration": 0.009201,
     "end_time": "2025-04-28T23:04:20.004028",
     "exception": false,
     "start_time": "2025-04-28T23:04:19.994827",
     "status": "completed"
    },
    "tags": []
   },
   "outputs": [],
   "source": [
    "X_seq = tokenizer.texts_to_sequences([' '.join(seq) for seq in X])\n",
    "y_seq = tokenizer.texts_to_sequences([word for word in y])"
   ]
  },
  {
   "cell_type": "code",
   "execution_count": 10,
   "id": "c58cccd1",
   "metadata": {
    "execution": {
     "iopub.execute_input": "2025-04-28T23:04:20.010574Z",
     "iopub.status.busy": "2025-04-28T23:04:20.010363Z",
     "iopub.status.idle": "2025-04-28T23:04:20.014085Z",
     "shell.execute_reply": "2025-04-28T23:04:20.013387Z"
    },
    "papermill": {
     "duration": 0.008189,
     "end_time": "2025-04-28T23:04:20.015157",
     "exception": false,
     "start_time": "2025-04-28T23:04:20.006968",
     "status": "completed"
    },
    "tags": []
   },
   "outputs": [
    {
     "name": "stdout",
     "output_type": "stream",
     "text": [
      "First 3 X sequences (encoded): [[24, 25, 4], [25, 4, 26], [4, 26, 27]]\n",
      "First 3 y values (encoded): [26, 27, 13]\n"
     ]
    }
   ],
   "source": [
    "y_seq = [item[0] for item in y_seq]\n",
    "\n",
    "print(f\"First 3 X sequences (encoded): {X_seq[:3]}\")\n",
    "print(f\"First 3 y values (encoded): {y_seq[:3]}\")"
   ]
  },
  {
   "cell_type": "code",
   "execution_count": 11,
   "id": "15fc5a32",
   "metadata": {
    "execution": {
     "iopub.execute_input": "2025-04-28T23:04:20.021653Z",
     "iopub.status.busy": "2025-04-28T23:04:20.02148Z",
     "iopub.status.idle": "2025-04-28T23:04:20.025409Z",
     "shell.execute_reply": "2025-04-28T23:04:20.024724Z"
    },
    "papermill": {
     "duration": 0.008359,
     "end_time": "2025-04-28T23:04:20.02647",
     "exception": false,
     "start_time": "2025-04-28T23:04:20.018111",
     "status": "completed"
    },
    "tags": []
   },
   "outputs": [
    {
     "name": "stdout",
     "output_type": "stream",
     "text": [
      "X shape: (153, 3)\n",
      "y shape: (153,)\n"
     ]
    }
   ],
   "source": [
    "X_array = np.array(X_seq)\n",
    "y_array = np.array(y_seq)\n",
    "\n",
    "print(f\"X shape: {X_array.shape}\")\n",
    "print(f\"y shape: {y_array.shape}\")"
   ]
  },
  {
   "cell_type": "code",
   "execution_count": 12,
   "id": "4002f9ee",
   "metadata": {
    "execution": {
     "iopub.execute_input": "2025-04-28T23:04:20.03306Z",
     "iopub.status.busy": "2025-04-28T23:04:20.032891Z",
     "iopub.status.idle": "2025-04-28T23:04:20.036412Z",
     "shell.execute_reply": "2025-04-28T23:04:20.035777Z"
    },
    "papermill": {
     "duration": 0.007999,
     "end_time": "2025-04-28T23:04:20.037407",
     "exception": false,
     "start_time": "2025-04-28T23:04:20.029408",
     "status": "completed"
    },
    "tags": []
   },
   "outputs": [
    {
     "name": "stdout",
     "output_type": "stream",
     "text": [
      "y one-hot shape: (153, 79)\n"
     ]
    }
   ],
   "source": [
    "y_one_hot = tf.keras.utils.to_categorical(y_array, num_classes=vocab_size)\n",
    "print(f\"y one-hot shape: {y_one_hot.shape}\")"
   ]
  },
  {
   "cell_type": "code",
   "execution_count": 13,
   "id": "9860bc88",
   "metadata": {
    "execution": {
     "iopub.execute_input": "2025-04-28T23:04:20.044072Z",
     "iopub.status.busy": "2025-04-28T23:04:20.043906Z",
     "iopub.status.idle": "2025-04-28T23:04:21.54249Z",
     "shell.execute_reply": "2025-04-28T23:04:21.541879Z"
    },
    "papermill": {
     "duration": 1.503162,
     "end_time": "2025-04-28T23:04:21.543635",
     "exception": false,
     "start_time": "2025-04-28T23:04:20.040473",
     "status": "completed"
    },
    "tags": []
   },
   "outputs": [
    {
     "name": "stderr",
     "output_type": "stream",
     "text": [
      "/usr/local/lib/python3.11/dist-packages/keras/src/layers/core/embedding.py:90: UserWarning: Argument `input_length` is deprecated. Just remove it.\n",
      "  warnings.warn(\n",
      "I0000 00:00:1745881461.481400      19 gpu_device.cc:2022] Created device /job:localhost/replica:0/task:0/device:GPU:0 with 13942 MB memory:  -> device: 0, name: Tesla T4, pci bus id: 0000:00:04.0, compute capability: 7.5\n",
      "I0000 00:00:1745881461.482038      19 gpu_device.cc:2022] Created device /job:localhost/replica:0/task:0/device:GPU:1 with 13942 MB memory:  -> device: 1, name: Tesla T4, pci bus id: 0000:00:05.0, compute capability: 7.5\n"
     ]
    },
    {
     "data": {
      "text/html": [
       "<pre style=\"white-space:pre;overflow-x:auto;line-height:normal;font-family:Menlo,'DejaVu Sans Mono',consolas,'Courier New',monospace\"><span style=\"font-weight: bold\">Model: \"sequential\"</span>\n",
       "</pre>\n"
      ],
      "text/plain": [
       "\u001b[1mModel: \"sequential\"\u001b[0m\n"
      ]
     },
     "metadata": {},
     "output_type": "display_data"
    },
    {
     "data": {
      "text/html": [
       "<pre style=\"white-space:pre;overflow-x:auto;line-height:normal;font-family:Menlo,'DejaVu Sans Mono',consolas,'Courier New',monospace\">┏━━━━━━━━━━━━━━━━━━━━━━━━━━━━━━━━━━━━━━┳━━━━━━━━━━━━━━━━━━━━━━━━━━━━━┳━━━━━━━━━━━━━━━━━┓\n",
       "┃<span style=\"font-weight: bold\"> Layer (type)                         </span>┃<span style=\"font-weight: bold\"> Output Shape                </span>┃<span style=\"font-weight: bold\">         Param # </span>┃\n",
       "┡━━━━━━━━━━━━━━━━━━━━━━━━━━━━━━━━━━━━━━╇━━━━━━━━━━━━━━━━━━━━━━━━━━━━━╇━━━━━━━━━━━━━━━━━┩\n",
       "│ embedding (<span style=\"color: #0087ff; text-decoration-color: #0087ff\">Embedding</span>)                │ ?                           │     <span style=\"color: #00af00; text-decoration-color: #00af00\">0</span> (unbuilt) │\n",
       "├──────────────────────────────────────┼─────────────────────────────┼─────────────────┤\n",
       "│ lstm (<span style=\"color: #0087ff; text-decoration-color: #0087ff\">LSTM</span>)                          │ ?                           │     <span style=\"color: #00af00; text-decoration-color: #00af00\">0</span> (unbuilt) │\n",
       "├──────────────────────────────────────┼─────────────────────────────┼─────────────────┤\n",
       "│ dense (<span style=\"color: #0087ff; text-decoration-color: #0087ff\">Dense</span>)                        │ ?                           │     <span style=\"color: #00af00; text-decoration-color: #00af00\">0</span> (unbuilt) │\n",
       "└──────────────────────────────────────┴─────────────────────────────┴─────────────────┘\n",
       "</pre>\n"
      ],
      "text/plain": [
       "┏━━━━━━━━━━━━━━━━━━━━━━━━━━━━━━━━━━━━━━┳━━━━━━━━━━━━━━━━━━━━━━━━━━━━━┳━━━━━━━━━━━━━━━━━┓\n",
       "┃\u001b[1m \u001b[0m\u001b[1mLayer (type)                        \u001b[0m\u001b[1m \u001b[0m┃\u001b[1m \u001b[0m\u001b[1mOutput Shape               \u001b[0m\u001b[1m \u001b[0m┃\u001b[1m \u001b[0m\u001b[1m        Param #\u001b[0m\u001b[1m \u001b[0m┃\n",
       "┡━━━━━━━━━━━━━━━━━━━━━━━━━━━━━━━━━━━━━━╇━━━━━━━━━━━━━━━━━━━━━━━━━━━━━╇━━━━━━━━━━━━━━━━━┩\n",
       "│ embedding (\u001b[38;5;33mEmbedding\u001b[0m)                │ ?                           │     \u001b[38;5;34m0\u001b[0m (unbuilt) │\n",
       "├──────────────────────────────────────┼─────────────────────────────┼─────────────────┤\n",
       "│ lstm (\u001b[38;5;33mLSTM\u001b[0m)                          │ ?                           │     \u001b[38;5;34m0\u001b[0m (unbuilt) │\n",
       "├──────────────────────────────────────┼─────────────────────────────┼─────────────────┤\n",
       "│ dense (\u001b[38;5;33mDense\u001b[0m)                        │ ?                           │     \u001b[38;5;34m0\u001b[0m (unbuilt) │\n",
       "└──────────────────────────────────────┴─────────────────────────────┴─────────────────┘\n"
      ]
     },
     "metadata": {},
     "output_type": "display_data"
    },
    {
     "data": {
      "text/html": [
       "<pre style=\"white-space:pre;overflow-x:auto;line-height:normal;font-family:Menlo,'DejaVu Sans Mono',consolas,'Courier New',monospace\"><span style=\"font-weight: bold\"> Total params: </span><span style=\"color: #00af00; text-decoration-color: #00af00\">0</span> (0.00 B)\n",
       "</pre>\n"
      ],
      "text/plain": [
       "\u001b[1m Total params: \u001b[0m\u001b[38;5;34m0\u001b[0m (0.00 B)\n"
      ]
     },
     "metadata": {},
     "output_type": "display_data"
    },
    {
     "data": {
      "text/html": [
       "<pre style=\"white-space:pre;overflow-x:auto;line-height:normal;font-family:Menlo,'DejaVu Sans Mono',consolas,'Courier New',monospace\"><span style=\"font-weight: bold\"> Trainable params: </span><span style=\"color: #00af00; text-decoration-color: #00af00\">0</span> (0.00 B)\n",
       "</pre>\n"
      ],
      "text/plain": [
       "\u001b[1m Trainable params: \u001b[0m\u001b[38;5;34m0\u001b[0m (0.00 B)\n"
      ]
     },
     "metadata": {},
     "output_type": "display_data"
    },
    {
     "data": {
      "text/html": [
       "<pre style=\"white-space:pre;overflow-x:auto;line-height:normal;font-family:Menlo,'DejaVu Sans Mono',consolas,'Courier New',monospace\"><span style=\"font-weight: bold\"> Non-trainable params: </span><span style=\"color: #00af00; text-decoration-color: #00af00\">0</span> (0.00 B)\n",
       "</pre>\n"
      ],
      "text/plain": [
       "\u001b[1m Non-trainable params: \u001b[0m\u001b[38;5;34m0\u001b[0m (0.00 B)\n"
      ]
     },
     "metadata": {},
     "output_type": "display_data"
    }
   ],
   "source": [
    "embedding_dim = 50\n",
    "lstm_units = 100\n",
    "\n",
    "model = Sequential([\n",
    "    Embedding(input_dim=vocab_size, output_dim=embedding_dim, input_length=3),\n",
    "    LSTM(units=lstm_units),\n",
    "    Dense(units=vocab_size, activation='softmax')\n",
    "])\n",
    "\n",
    "model.compile(optimizer='adam', loss='categorical_crossentropy', metrics=['accuracy'])\n",
    "model.summary()"
   ]
  },
  {
   "cell_type": "code",
   "execution_count": 14,
   "id": "7c685437",
   "metadata": {
    "execution": {
     "iopub.execute_input": "2025-04-28T23:04:21.55224Z",
     "iopub.status.busy": "2025-04-28T23:04:21.551629Z",
     "iopub.status.idle": "2025-04-28T23:04:31.980903Z",
     "shell.execute_reply": "2025-04-28T23:04:31.980157Z"
    },
    "papermill": {
     "duration": 10.43485,
     "end_time": "2025-04-28T23:04:31.982285",
     "exception": false,
     "start_time": "2025-04-28T23:04:21.547435",
     "status": "completed"
    },
    "tags": []
   },
   "outputs": [
    {
     "name": "stdout",
     "output_type": "stream",
     "text": [
      "Epoch 1/100\n"
     ]
    },
    {
     "name": "stderr",
     "output_type": "stream",
     "text": [
      "I0000 00:00:1745881465.501248      63 cuda_dnn.cc:529] Loaded cuDNN version 90300\n"
     ]
    },
    {
     "name": "stdout",
     "output_type": "stream",
     "text": [
      "\u001b[1m4/4\u001b[0m \u001b[32m━━━━━━━━━━━━━━━━━━━━\u001b[0m\u001b[37m\u001b[0m \u001b[1m5s\u001b[0m 112ms/step - accuracy: 0.0299 - loss: 4.3682 - val_accuracy: 0.0323 - val_loss: 4.3679\n",
      "Epoch 2/100\n",
      "\u001b[1m4/4\u001b[0m \u001b[32m━━━━━━━━━━━━━━━━━━━━\u001b[0m\u001b[37m\u001b[0m \u001b[1m0s\u001b[0m 11ms/step - accuracy: 0.1413 - loss: 4.3594 - val_accuracy: 0.0323 - val_loss: 4.3669\n",
      "Epoch 3/100\n",
      "\u001b[1m4/4\u001b[0m \u001b[32m━━━━━━━━━━━━━━━━━━━━\u001b[0m\u001b[37m\u001b[0m \u001b[1m0s\u001b[0m 11ms/step - accuracy: 0.1075 - loss: 4.3514 - val_accuracy: 0.0323 - val_loss: 4.3662\n",
      "Epoch 4/100\n",
      "\u001b[1m4/4\u001b[0m \u001b[32m━━━━━━━━━━━━━━━━━━━━\u001b[0m\u001b[37m\u001b[0m \u001b[1m0s\u001b[0m 11ms/step - accuracy: 0.1060 - loss: 4.3417 - val_accuracy: 0.0645 - val_loss: 4.3657\n",
      "Epoch 5/100\n",
      "\u001b[1m4/4\u001b[0m \u001b[32m━━━━━━━━━━━━━━━━━━━━\u001b[0m\u001b[37m\u001b[0m \u001b[1m0s\u001b[0m 11ms/step - accuracy: 0.1059 - loss: 4.3288 - val_accuracy: 0.0645 - val_loss: 4.3651\n",
      "Epoch 6/100\n",
      "\u001b[1m4/4\u001b[0m \u001b[32m━━━━━━━━━━━━━━━━━━━━\u001b[0m\u001b[37m\u001b[0m \u001b[1m0s\u001b[0m 11ms/step - accuracy: 0.0861 - loss: 4.3141 - val_accuracy: 0.0645 - val_loss: 4.3646\n",
      "Epoch 7/100\n",
      "\u001b[1m4/4\u001b[0m \u001b[32m━━━━━━━━━━━━━━━━━━━━\u001b[0m\u001b[37m\u001b[0m \u001b[1m0s\u001b[0m 11ms/step - accuracy: 0.1027 - loss: 4.2929 - val_accuracy: 0.0645 - val_loss: 4.3642\n",
      "Epoch 8/100\n",
      "\u001b[1m4/4\u001b[0m \u001b[32m━━━━━━━━━━━━━━━━━━━━\u001b[0m\u001b[37m\u001b[0m \u001b[1m0s\u001b[0m 11ms/step - accuracy: 0.0829 - loss: 4.2716 - val_accuracy: 0.0645 - val_loss: 4.3646\n",
      "Epoch 9/100\n",
      "\u001b[1m4/4\u001b[0m \u001b[32m━━━━━━━━━━━━━━━━━━━━\u001b[0m\u001b[37m\u001b[0m \u001b[1m0s\u001b[0m 11ms/step - accuracy: 0.0965 - loss: 4.2343 - val_accuracy: 0.0645 - val_loss: 4.3666\n",
      "Epoch 10/100\n",
      "\u001b[1m4/4\u001b[0m \u001b[32m━━━━━━━━━━━━━━━━━━━━\u001b[0m\u001b[37m\u001b[0m \u001b[1m0s\u001b[0m 11ms/step - accuracy: 0.0798 - loss: 4.1972 - val_accuracy: 0.0645 - val_loss: 4.3731\n",
      "Epoch 11/100\n",
      "\u001b[1m4/4\u001b[0m \u001b[32m━━━━━━━━━━━━━━━━━━━━\u001b[0m\u001b[37m\u001b[0m \u001b[1m0s\u001b[0m 11ms/step - accuracy: 0.0871 - loss: 4.1247 - val_accuracy: 0.0645 - val_loss: 4.3888\n",
      "Epoch 12/100\n",
      "\u001b[1m4/4\u001b[0m \u001b[32m━━━━━━━━━━━━━━━━━━━━\u001b[0m\u001b[37m\u001b[0m \u001b[1m0s\u001b[0m 11ms/step - accuracy: 0.0892 - loss: 3.9875 - val_accuracy: 0.0645 - val_loss: 4.4266\n",
      "Epoch 13/100\n",
      "\u001b[1m4/4\u001b[0m \u001b[32m━━━━━━━━━━━━━━━━━━━━\u001b[0m\u001b[37m\u001b[0m \u001b[1m0s\u001b[0m 10ms/step - accuracy: 0.1111 - loss: 3.8538 - val_accuracy: 0.0645 - val_loss: 4.5109\n",
      "Epoch 14/100\n",
      "\u001b[1m4/4\u001b[0m \u001b[32m━━━━━━━━━━━━━━━━━━━━\u001b[0m\u001b[37m\u001b[0m \u001b[1m0s\u001b[0m 11ms/step - accuracy: 0.0902 - loss: 3.8209 - val_accuracy: 0.0645 - val_loss: 4.6471\n",
      "Epoch 15/100\n",
      "\u001b[1m4/4\u001b[0m \u001b[32m━━━━━━━━━━━━━━━━━━━━\u001b[0m\u001b[37m\u001b[0m \u001b[1m0s\u001b[0m 11ms/step - accuracy: 0.0892 - loss: 3.7164 - val_accuracy: 0.0645 - val_loss: 4.7617\n",
      "Epoch 16/100\n",
      "\u001b[1m4/4\u001b[0m \u001b[32m━━━━━━━━━━━━━━━━━━━━\u001b[0m\u001b[37m\u001b[0m \u001b[1m0s\u001b[0m 11ms/step - accuracy: 0.1006 - loss: 3.6527 - val_accuracy: 0.0645 - val_loss: 4.7751\n",
      "Epoch 17/100\n",
      "\u001b[1m4/4\u001b[0m \u001b[32m━━━━━━━━━━━━━━━━━━━━\u001b[0m\u001b[37m\u001b[0m \u001b[1m0s\u001b[0m 11ms/step - accuracy: 0.1163 - loss: 3.6156 - val_accuracy: 0.0645 - val_loss: 4.7510\n",
      "Epoch 18/100\n",
      "\u001b[1m4/4\u001b[0m \u001b[32m━━━━━━━━━━━━━━━━━━━━\u001b[0m\u001b[37m\u001b[0m \u001b[1m0s\u001b[0m 11ms/step - accuracy: 0.1006 - loss: 3.6577 - val_accuracy: 0.0645 - val_loss: 4.7315\n",
      "Epoch 19/100\n",
      "\u001b[1m4/4\u001b[0m \u001b[32m━━━━━━━━━━━━━━━━━━━━\u001b[0m\u001b[37m\u001b[0m \u001b[1m0s\u001b[0m 11ms/step - accuracy: 0.0850 - loss: 3.5443 - val_accuracy: 0.0645 - val_loss: 4.7506\n",
      "Epoch 20/100\n",
      "\u001b[1m4/4\u001b[0m \u001b[32m━━━━━━━━━━━━━━━━━━━━\u001b[0m\u001b[37m\u001b[0m \u001b[1m0s\u001b[0m 10ms/step - accuracy: 0.0904 - loss: 3.5461 - val_accuracy: 0.0645 - val_loss: 4.7876\n",
      "Epoch 21/100\n",
      "\u001b[1m4/4\u001b[0m \u001b[32m━━━━━━━━━━━━━━━━━━━━\u001b[0m\u001b[37m\u001b[0m \u001b[1m0s\u001b[0m 11ms/step - accuracy: 0.1020 - loss: 3.4193 - val_accuracy: 0.0968 - val_loss: 4.8370\n",
      "Epoch 22/100\n",
      "\u001b[1m4/4\u001b[0m \u001b[32m━━━━━━━━━━━━━━━━━━━━\u001b[0m\u001b[37m\u001b[0m \u001b[1m0s\u001b[0m 10ms/step - accuracy: 0.1400 - loss: 3.4138 - val_accuracy: 0.0968 - val_loss: 4.8718\n",
      "Epoch 23/100\n",
      "\u001b[1m4/4\u001b[0m \u001b[32m━━━━━━━━━━━━━━━━━━━━\u001b[0m\u001b[37m\u001b[0m \u001b[1m0s\u001b[0m 11ms/step - accuracy: 0.1045 - loss: 3.4049 - val_accuracy: 0.1290 - val_loss: 4.8894\n",
      "Epoch 24/100\n",
      "\u001b[1m4/4\u001b[0m \u001b[32m━━━━━━━━━━━━━━━━━━━━\u001b[0m\u001b[37m\u001b[0m \u001b[1m0s\u001b[0m 11ms/step - accuracy: 0.1432 - loss: 3.2760 - val_accuracy: 0.1290 - val_loss: 4.8999\n",
      "Epoch 25/100\n",
      "\u001b[1m4/4\u001b[0m \u001b[32m━━━━━━━━━━━━━━━━━━━━\u001b[0m\u001b[37m\u001b[0m \u001b[1m0s\u001b[0m 11ms/step - accuracy: 0.1501 - loss: 3.2189 - val_accuracy: 0.1290 - val_loss: 4.8914\n",
      "Epoch 26/100\n",
      "\u001b[1m4/4\u001b[0m \u001b[32m━━━━━━━━━━━━━━━━━━━━\u001b[0m\u001b[37m\u001b[0m \u001b[1m0s\u001b[0m 11ms/step - accuracy: 0.1643 - loss: 3.1669 - val_accuracy: 0.1613 - val_loss: 4.8722\n",
      "Epoch 27/100\n",
      "\u001b[1m4/4\u001b[0m \u001b[32m━━━━━━━━━━━━━━━━━━━━\u001b[0m\u001b[37m\u001b[0m \u001b[1m0s\u001b[0m 11ms/step - accuracy: 0.2577 - loss: 3.0170 - val_accuracy: 0.1613 - val_loss: 4.8766\n",
      "Epoch 28/100\n",
      "\u001b[1m4/4\u001b[0m \u001b[32m━━━━━━━━━━━━━━━━━━━━\u001b[0m\u001b[37m\u001b[0m \u001b[1m0s\u001b[0m 11ms/step - accuracy: 0.3038 - loss: 2.9992 - val_accuracy: 0.1613 - val_loss: 4.8745\n",
      "Epoch 29/100\n",
      "\u001b[1m4/4\u001b[0m \u001b[32m━━━━━━━━━━━━━━━━━━━━\u001b[0m\u001b[37m\u001b[0m \u001b[1m0s\u001b[0m 11ms/step - accuracy: 0.3563 - loss: 2.8327 - val_accuracy: 0.1613 - val_loss: 4.8872\n",
      "Epoch 30/100\n",
      "\u001b[1m4/4\u001b[0m \u001b[32m━━━━━━━━━━━━━━━━━━━━\u001b[0m\u001b[37m\u001b[0m \u001b[1m0s\u001b[0m 11ms/step - accuracy: 0.3335 - loss: 2.8986 - val_accuracy: 0.1613 - val_loss: 4.9149\n",
      "Epoch 31/100\n",
      "\u001b[1m4/4\u001b[0m \u001b[32m━━━━━━━━━━━━━━━━━━━━\u001b[0m\u001b[37m\u001b[0m \u001b[1m0s\u001b[0m 11ms/step - accuracy: 0.3325 - loss: 2.7734 - val_accuracy: 0.1613 - val_loss: 4.9466\n",
      "Epoch 32/100\n",
      "\u001b[1m4/4\u001b[0m \u001b[32m━━━━━━━━━━━━━━━━━━━━\u001b[0m\u001b[37m\u001b[0m \u001b[1m0s\u001b[0m 10ms/step - accuracy: 0.3255 - loss: 2.7344 - val_accuracy: 0.1613 - val_loss: 4.9809\n",
      "Epoch 33/100\n",
      "\u001b[1m4/4\u001b[0m \u001b[32m━━━━━━━━━━━━━━━━━━━━\u001b[0m\u001b[37m\u001b[0m \u001b[1m0s\u001b[0m 11ms/step - accuracy: 0.3306 - loss: 2.6399 - val_accuracy: 0.1613 - val_loss: 4.9987\n",
      "Epoch 34/100\n",
      "\u001b[1m4/4\u001b[0m \u001b[32m━━━━━━━━━━━━━━━━━━━━\u001b[0m\u001b[37m\u001b[0m \u001b[1m0s\u001b[0m 11ms/step - accuracy: 0.3967 - loss: 2.6140 - val_accuracy: 0.1613 - val_loss: 5.0158\n",
      "Epoch 35/100\n",
      "\u001b[1m4/4\u001b[0m \u001b[32m━━━━━━━━━━━━━━━━━━━━\u001b[0m\u001b[37m\u001b[0m \u001b[1m0s\u001b[0m 11ms/step - accuracy: 0.3941 - loss: 2.5361 - val_accuracy: 0.1613 - val_loss: 5.0335\n",
      "Epoch 36/100\n",
      "\u001b[1m4/4\u001b[0m \u001b[32m━━━━━━━━━━━━━━━━━━━━\u001b[0m\u001b[37m\u001b[0m \u001b[1m0s\u001b[0m 11ms/step - accuracy: 0.4278 - loss: 2.4630 - val_accuracy: 0.1613 - val_loss: 5.0599\n",
      "Epoch 37/100\n",
      "\u001b[1m4/4\u001b[0m \u001b[32m━━━━━━━━━━━━━━━━━━━━\u001b[0m\u001b[37m\u001b[0m \u001b[1m0s\u001b[0m 10ms/step - accuracy: 0.4774 - loss: 2.3619 - val_accuracy: 0.1613 - val_loss: 5.0867\n",
      "Epoch 38/100\n",
      "\u001b[1m4/4\u001b[0m \u001b[32m━━━━━━━━━━━━━━━━━━━━\u001b[0m\u001b[37m\u001b[0m \u001b[1m0s\u001b[0m 11ms/step - accuracy: 0.4754 - loss: 2.2878 - val_accuracy: 0.1613 - val_loss: 5.1224\n",
      "Epoch 39/100\n",
      "\u001b[1m4/4\u001b[0m \u001b[32m━━━━━━━━━━━━━━━━━━━━\u001b[0m\u001b[37m\u001b[0m \u001b[1m0s\u001b[0m 11ms/step - accuracy: 0.4790 - loss: 2.2258 - val_accuracy: 0.1613 - val_loss: 5.1495\n",
      "Epoch 40/100\n",
      "\u001b[1m4/4\u001b[0m \u001b[32m━━━━━━━━━━━━━━━━━━━━\u001b[0m\u001b[37m\u001b[0m \u001b[1m0s\u001b[0m 10ms/step - accuracy: 0.5196 - loss: 2.0807 - val_accuracy: 0.1613 - val_loss: 5.1694\n",
      "Epoch 41/100\n",
      "\u001b[1m4/4\u001b[0m \u001b[32m━━━━━━━━━━━━━━━━━━━━\u001b[0m\u001b[37m\u001b[0m \u001b[1m0s\u001b[0m 10ms/step - accuracy: 0.5199 - loss: 2.0816 - val_accuracy: 0.1613 - val_loss: 5.1793\n",
      "Epoch 42/100\n",
      "\u001b[1m4/4\u001b[0m \u001b[32m━━━━━━━━━━━━━━━━━━━━\u001b[0m\u001b[37m\u001b[0m \u001b[1m0s\u001b[0m 10ms/step - accuracy: 0.5131 - loss: 2.0942 - val_accuracy: 0.1613 - val_loss: 5.1921\n",
      "Epoch 43/100\n",
      "\u001b[1m4/4\u001b[0m \u001b[32m━━━━━━━━━━━━━━━━━━━━\u001b[0m\u001b[37m\u001b[0m \u001b[1m0s\u001b[0m 11ms/step - accuracy: 0.5581 - loss: 1.9112 - val_accuracy: 0.1613 - val_loss: 5.2228\n",
      "Epoch 44/100\n",
      "\u001b[1m4/4\u001b[0m \u001b[32m━━━━━━━━━━━━━━━━━━━━\u001b[0m\u001b[37m\u001b[0m \u001b[1m0s\u001b[0m 11ms/step - accuracy: 0.5518 - loss: 1.9055 - val_accuracy: 0.1613 - val_loss: 5.2578\n",
      "Epoch 45/100\n",
      "\u001b[1m4/4\u001b[0m \u001b[32m━━━━━━━━━━━━━━━━━━━━\u001b[0m\u001b[37m\u001b[0m \u001b[1m0s\u001b[0m 16ms/step - accuracy: 0.5799 - loss: 1.7591 - val_accuracy: 0.1613 - val_loss: 5.2989\n",
      "Epoch 46/100\n",
      "\u001b[1m4/4\u001b[0m \u001b[32m━━━━━━━━━━━━━━━━━━━━\u001b[0m\u001b[37m\u001b[0m \u001b[1m0s\u001b[0m 13ms/step - accuracy: 0.5612 - loss: 1.7187 - val_accuracy: 0.1613 - val_loss: 5.3144\n",
      "Epoch 47/100\n",
      "\u001b[1m4/4\u001b[0m \u001b[32m━━━━━━━━━━━━━━━━━━━━\u001b[0m\u001b[37m\u001b[0m \u001b[1m0s\u001b[0m 12ms/step - accuracy: 0.4927 - loss: 1.8128 - val_accuracy: 0.1613 - val_loss: 5.3425\n",
      "Epoch 48/100\n",
      "\u001b[1m4/4\u001b[0m \u001b[32m━━━━━━━━━━━━━━━━━━━━\u001b[0m\u001b[37m\u001b[0m \u001b[1m0s\u001b[0m 12ms/step - accuracy: 0.5825 - loss: 1.5930 - val_accuracy: 0.1613 - val_loss: 5.3781\n",
      "Epoch 49/100\n",
      "\u001b[1m4/4\u001b[0m \u001b[32m━━━━━━━━━━━━━━━━━━━━\u001b[0m\u001b[37m\u001b[0m \u001b[1m0s\u001b[0m 10ms/step - accuracy: 0.5814 - loss: 1.6265 - val_accuracy: 0.1613 - val_loss: 5.4160\n",
      "Epoch 50/100\n",
      "\u001b[1m4/4\u001b[0m \u001b[32m━━━━━━━━━━━━━━━━━━━━\u001b[0m\u001b[37m\u001b[0m \u001b[1m0s\u001b[0m 11ms/step - accuracy: 0.5785 - loss: 1.5127 - val_accuracy: 0.1613 - val_loss: 5.4554\n",
      "Epoch 51/100\n",
      "\u001b[1m4/4\u001b[0m \u001b[32m━━━━━━━━━━━━━━━━━━━━\u001b[0m\u001b[37m\u001b[0m \u001b[1m0s\u001b[0m 10ms/step - accuracy: 0.6075 - loss: 1.5224 - val_accuracy: 0.1613 - val_loss: 5.4841\n",
      "Epoch 52/100\n",
      "\u001b[1m4/4\u001b[0m \u001b[32m━━━━━━━━━━━━━━━━━━━━\u001b[0m\u001b[37m\u001b[0m \u001b[1m0s\u001b[0m 10ms/step - accuracy: 0.6263 - loss: 1.3741 - val_accuracy: 0.1613 - val_loss: 5.5138\n",
      "Epoch 53/100\n",
      "\u001b[1m4/4\u001b[0m \u001b[32m━━━━━━━━━━━━━━━━━━━━\u001b[0m\u001b[37m\u001b[0m \u001b[1m0s\u001b[0m 11ms/step - accuracy: 0.6767 - loss: 1.3423 - val_accuracy: 0.1613 - val_loss: 5.5491\n",
      "Epoch 54/100\n",
      "\u001b[1m4/4\u001b[0m \u001b[32m━━━━━━━━━━━━━━━━━━━━\u001b[0m\u001b[37m\u001b[0m \u001b[1m0s\u001b[0m 11ms/step - accuracy: 0.6511 - loss: 1.2982 - val_accuracy: 0.1613 - val_loss: 5.5833\n",
      "Epoch 55/100\n",
      "\u001b[1m4/4\u001b[0m \u001b[32m━━━━━━━━━━━━━━━━━━━━\u001b[0m\u001b[37m\u001b[0m \u001b[1m0s\u001b[0m 10ms/step - accuracy: 0.7408 - loss: 1.2334 - val_accuracy: 0.1613 - val_loss: 5.6271\n",
      "Epoch 56/100\n",
      "\u001b[1m4/4\u001b[0m \u001b[32m━━━━━━━━━━━━━━━━━━━━\u001b[0m\u001b[37m\u001b[0m \u001b[1m0s\u001b[0m 11ms/step - accuracy: 0.7810 - loss: 1.1023 - val_accuracy: 0.1613 - val_loss: 5.6749\n",
      "Epoch 57/100\n",
      "\u001b[1m4/4\u001b[0m \u001b[32m━━━━━━━━━━━━━━━━━━━━\u001b[0m\u001b[37m\u001b[0m \u001b[1m0s\u001b[0m 11ms/step - accuracy: 0.7844 - loss: 1.0955 - val_accuracy: 0.1613 - val_loss: 5.7093\n",
      "Epoch 58/100\n",
      "\u001b[1m4/4\u001b[0m \u001b[32m━━━━━━━━━━━━━━━━━━━━\u001b[0m\u001b[37m\u001b[0m \u001b[1m0s\u001b[0m 10ms/step - accuracy: 0.7542 - loss: 1.1547 - val_accuracy: 0.1613 - val_loss: 5.7383\n",
      "Epoch 59/100\n",
      "\u001b[1m4/4\u001b[0m \u001b[32m━━━━━━━━━━━━━━━━━━━━\u001b[0m\u001b[37m\u001b[0m \u001b[1m0s\u001b[0m 11ms/step - accuracy: 0.8067 - loss: 1.0021 - val_accuracy: 0.1613 - val_loss: 5.7853\n",
      "Epoch 60/100\n",
      "\u001b[1m4/4\u001b[0m \u001b[32m━━━━━━━━━━━━━━━━━━━━\u001b[0m\u001b[37m\u001b[0m \u001b[1m0s\u001b[0m 11ms/step - accuracy: 0.7788 - loss: 1.0129 - val_accuracy: 0.1613 - val_loss: 5.8273\n",
      "Epoch 61/100\n",
      "\u001b[1m4/4\u001b[0m \u001b[32m━━━━━━━━━━━━━━━━━━━━\u001b[0m\u001b[37m\u001b[0m \u001b[1m0s\u001b[0m 11ms/step - accuracy: 0.8032 - loss: 0.9995 - val_accuracy: 0.1613 - val_loss: 5.8721\n",
      "Epoch 62/100\n",
      "\u001b[1m4/4\u001b[0m \u001b[32m━━━━━━━━━━━━━━━━━━━━\u001b[0m\u001b[37m\u001b[0m \u001b[1m0s\u001b[0m 10ms/step - accuracy: 0.8508 - loss: 0.9075 - val_accuracy: 0.1613 - val_loss: 5.9187\n",
      "Epoch 63/100\n",
      "\u001b[1m4/4\u001b[0m \u001b[32m━━━━━━━━━━━━━━━━━━━━\u001b[0m\u001b[37m\u001b[0m \u001b[1m0s\u001b[0m 11ms/step - accuracy: 0.9254 - loss: 0.7914 - val_accuracy: 0.1613 - val_loss: 5.9497\n",
      "Epoch 64/100\n",
      "\u001b[1m4/4\u001b[0m \u001b[32m━━━━━━━━━━━━━━━━━━━━\u001b[0m\u001b[37m\u001b[0m \u001b[1m0s\u001b[0m 11ms/step - accuracy: 0.9108 - loss: 0.8033 - val_accuracy: 0.1613 - val_loss: 5.9814\n",
      "Epoch 65/100\n",
      "\u001b[1m4/4\u001b[0m \u001b[32m━━━━━━━━━━━━━━━━━━━━\u001b[0m\u001b[37m\u001b[0m \u001b[1m0s\u001b[0m 10ms/step - accuracy: 0.9142 - loss: 0.7841 - val_accuracy: 0.1613 - val_loss: 6.0151\n",
      "Epoch 66/100\n",
      "\u001b[1m4/4\u001b[0m \u001b[32m━━━━━━━━━━━━━━━━━━━━\u001b[0m\u001b[37m\u001b[0m \u001b[1m0s\u001b[0m 10ms/step - accuracy: 0.9132 - loss: 0.7518 - val_accuracy: 0.1613 - val_loss: 6.0477\n",
      "Epoch 67/100\n",
      "\u001b[1m4/4\u001b[0m \u001b[32m━━━━━━━━━━━━━━━━━━━━\u001b[0m\u001b[37m\u001b[0m \u001b[1m0s\u001b[0m 11ms/step - accuracy: 0.9122 - loss: 0.6846 - val_accuracy: 0.1613 - val_loss: 6.0874\n",
      "Epoch 68/100\n",
      "\u001b[1m4/4\u001b[0m \u001b[32m━━━━━━━━━━━━━━━━━━━━\u001b[0m\u001b[37m\u001b[0m \u001b[1m0s\u001b[0m 10ms/step - accuracy: 0.9247 - loss: 0.6432 - val_accuracy: 0.1613 - val_loss: 6.1174\n",
      "Epoch 69/100\n",
      "\u001b[1m4/4\u001b[0m \u001b[32m━━━━━━━━━━━━━━━━━━━━\u001b[0m\u001b[37m\u001b[0m \u001b[1m0s\u001b[0m 11ms/step - accuracy: 0.9311 - loss: 0.6006 - val_accuracy: 0.1613 - val_loss: 6.1562\n",
      "Epoch 70/100\n",
      "\u001b[1m4/4\u001b[0m \u001b[32m━━━━━━━━━━━━━━━━━━━━\u001b[0m\u001b[37m\u001b[0m \u001b[1m0s\u001b[0m 11ms/step - accuracy: 0.9248 - loss: 0.5823 - val_accuracy: 0.1613 - val_loss: 6.1942\n",
      "Epoch 71/100\n",
      "\u001b[1m4/4\u001b[0m \u001b[32m━━━━━━━━━━━━━━━━━━━━\u001b[0m\u001b[37m\u001b[0m \u001b[1m0s\u001b[0m 11ms/step - accuracy: 0.9395 - loss: 0.5572 - val_accuracy: 0.1613 - val_loss: 6.2217\n",
      "Epoch 72/100\n",
      "\u001b[1m4/4\u001b[0m \u001b[32m━━━━━━━━━━━━━━━━━━━━\u001b[0m\u001b[37m\u001b[0m \u001b[1m0s\u001b[0m 10ms/step - accuracy: 0.9385 - loss: 0.5748 - val_accuracy: 0.1613 - val_loss: 6.2363\n",
      "Epoch 73/100\n",
      "\u001b[1m4/4\u001b[0m \u001b[32m━━━━━━━━━━━━━━━━━━━━\u001b[0m\u001b[37m\u001b[0m \u001b[1m0s\u001b[0m 11ms/step - accuracy: 0.9436 - loss: 0.5171 - val_accuracy: 0.1613 - val_loss: 6.2535\n",
      "Epoch 74/100\n",
      "\u001b[1m4/4\u001b[0m \u001b[32m━━━━━━━━━━━━━━━━━━━━\u001b[0m\u001b[37m\u001b[0m \u001b[1m0s\u001b[0m 11ms/step - accuracy: 0.9427 - loss: 0.4925 - val_accuracy: 0.1613 - val_loss: 6.2775\n",
      "Epoch 75/100\n",
      "\u001b[1m4/4\u001b[0m \u001b[32m━━━━━━━━━━━━━━━━━━━━\u001b[0m\u001b[37m\u001b[0m \u001b[1m0s\u001b[0m 11ms/step - accuracy: 0.9385 - loss: 0.4757 - val_accuracy: 0.1613 - val_loss: 6.3096\n",
      "Epoch 76/100\n",
      "\u001b[1m4/4\u001b[0m \u001b[32m━━━━━━━━━━━━━━━━━━━━\u001b[0m\u001b[37m\u001b[0m \u001b[1m0s\u001b[0m 10ms/step - accuracy: 0.9248 - loss: 0.4967 - val_accuracy: 0.1613 - val_loss: 6.3370\n",
      "Epoch 77/100\n",
      "\u001b[1m4/4\u001b[0m \u001b[32m━━━━━━━━━━━━━━━━━━━━\u001b[0m\u001b[37m\u001b[0m \u001b[1m0s\u001b[0m 10ms/step - accuracy: 0.9395 - loss: 0.4332 - val_accuracy: 0.1613 - val_loss: 6.3519\n",
      "Epoch 78/100\n",
      "\u001b[1m4/4\u001b[0m \u001b[32m━━━━━━━━━━━━━━━━━━━━\u001b[0m\u001b[37m\u001b[0m \u001b[1m0s\u001b[0m 11ms/step - accuracy: 0.9281 - loss: 0.4119 - val_accuracy: 0.1613 - val_loss: 6.3777\n",
      "Epoch 79/100\n",
      "\u001b[1m4/4\u001b[0m \u001b[32m━━━━━━━━━━━━━━━━━━━━\u001b[0m\u001b[37m\u001b[0m \u001b[1m0s\u001b[0m 11ms/step - accuracy: 0.9625 - loss: 0.3651 - val_accuracy: 0.1613 - val_loss: 6.3895\n",
      "Epoch 80/100\n",
      "\u001b[1m4/4\u001b[0m \u001b[32m━━━━━━━━━━━━━━━━━━━━\u001b[0m\u001b[37m\u001b[0m \u001b[1m0s\u001b[0m 11ms/step - accuracy: 0.9395 - loss: 0.3694 - val_accuracy: 0.1613 - val_loss: 6.4082\n",
      "Epoch 81/100\n",
      "\u001b[1m4/4\u001b[0m \u001b[32m━━━━━━━━━━━━━━━━━━━━\u001b[0m\u001b[37m\u001b[0m \u001b[1m0s\u001b[0m 10ms/step - accuracy: 0.9427 - loss: 0.3819 - val_accuracy: 0.1613 - val_loss: 6.4258\n",
      "Epoch 82/100\n",
      "\u001b[1m4/4\u001b[0m \u001b[32m━━━━━━━━━━━━━━━━━━━━\u001b[0m\u001b[37m\u001b[0m \u001b[1m0s\u001b[0m 11ms/step - accuracy: 0.9541 - loss: 0.3330 - val_accuracy: 0.1613 - val_loss: 6.4454\n",
      "Epoch 83/100\n",
      "\u001b[1m4/4\u001b[0m \u001b[32m━━━━━━━━━━━━━━━━━━━━\u001b[0m\u001b[37m\u001b[0m \u001b[1m0s\u001b[0m 11ms/step - accuracy: 0.9458 - loss: 0.3379 - val_accuracy: 0.1613 - val_loss: 6.4628\n",
      "Epoch 84/100\n",
      "\u001b[1m4/4\u001b[0m \u001b[32m━━━━━━━━━━━━━━━━━━━━\u001b[0m\u001b[37m\u001b[0m \u001b[1m0s\u001b[0m 11ms/step - accuracy: 0.9710 - loss: 0.2896 - val_accuracy: 0.1613 - val_loss: 6.4788\n",
      "Epoch 85/100\n",
      "\u001b[1m4/4\u001b[0m \u001b[32m━━━━━━━━━━━━━━━━━━━━\u001b[0m\u001b[37m\u001b[0m \u001b[1m0s\u001b[0m 11ms/step - accuracy: 0.9311 - loss: 0.3134 - val_accuracy: 0.1613 - val_loss: 6.4840\n",
      "Epoch 86/100\n",
      "\u001b[1m4/4\u001b[0m \u001b[32m━━━━━━━━━━━━━━━━━━━━\u001b[0m\u001b[37m\u001b[0m \u001b[1m0s\u001b[0m 11ms/step - accuracy: 0.9595 - loss: 0.3009 - val_accuracy: 0.1613 - val_loss: 6.4926\n",
      "Epoch 87/100\n",
      "\u001b[1m4/4\u001b[0m \u001b[32m━━━━━━━━━━━━━━━━━━━━\u001b[0m\u001b[37m\u001b[0m \u001b[1m0s\u001b[0m 11ms/step - accuracy: 0.9460 - loss: 0.2914 - val_accuracy: 0.1613 - val_loss: 6.5048\n",
      "Epoch 88/100\n",
      "\u001b[1m4/4\u001b[0m \u001b[32m━━━━━━━━━━━━━━━━━━━━\u001b[0m\u001b[37m\u001b[0m \u001b[1m0s\u001b[0m 10ms/step - accuracy: 0.9366 - loss: 0.2854 - val_accuracy: 0.1613 - val_loss: 6.5202\n",
      "Epoch 89/100\n",
      "\u001b[1m4/4\u001b[0m \u001b[32m━━━━━━━━━━━━━━━━━━━━\u001b[0m\u001b[37m\u001b[0m \u001b[1m0s\u001b[0m 10ms/step - accuracy: 0.9532 - loss: 0.2672 - val_accuracy: 0.1613 - val_loss: 6.5277\n",
      "Epoch 90/100\n",
      "\u001b[1m4/4\u001b[0m \u001b[32m━━━━━━━━━━━━━━━━━━━━\u001b[0m\u001b[37m\u001b[0m \u001b[1m0s\u001b[0m 10ms/step - accuracy: 0.9333 - loss: 0.2802 - val_accuracy: 0.1613 - val_loss: 6.5385\n",
      "Epoch 91/100\n",
      "\u001b[1m4/4\u001b[0m \u001b[32m━━━━━━━━━━━━━━━━━━━━\u001b[0m\u001b[37m\u001b[0m \u001b[1m0s\u001b[0m 11ms/step - accuracy: 0.9564 - loss: 0.2612 - val_accuracy: 0.1613 - val_loss: 6.5517\n",
      "Epoch 92/100\n",
      "\u001b[1m4/4\u001b[0m \u001b[32m━━━━━━━━━━━━━━━━━━━━\u001b[0m\u001b[37m\u001b[0m \u001b[1m0s\u001b[0m 10ms/step - accuracy: 0.9607 - loss: 0.2604 - val_accuracy: 0.1613 - val_loss: 6.5672\n",
      "Epoch 93/100\n",
      "\u001b[1m4/4\u001b[0m \u001b[32m━━━━━━━━━━━━━━━━━━━━\u001b[0m\u001b[37m\u001b[0m \u001b[1m0s\u001b[0m 11ms/step - accuracy: 0.9576 - loss: 0.2452 - val_accuracy: 0.1613 - val_loss: 6.5806\n",
      "Epoch 94/100\n",
      "\u001b[1m4/4\u001b[0m \u001b[32m━━━━━━━━━━━━━━━━━━━━\u001b[0m\u001b[37m\u001b[0m \u001b[1m0s\u001b[0m 13ms/step - accuracy: 0.9565 - loss: 0.2452 - val_accuracy: 0.1935 - val_loss: 6.5976\n",
      "Epoch 95/100\n",
      "\u001b[1m4/4\u001b[0m \u001b[32m━━━━━━━━━━━━━━━━━━━━\u001b[0m\u001b[37m\u001b[0m \u001b[1m0s\u001b[0m 12ms/step - accuracy: 0.9649 - loss: 0.2275 - val_accuracy: 0.1935 - val_loss: 6.6167\n",
      "Epoch 96/100\n",
      "\u001b[1m4/4\u001b[0m \u001b[32m━━━━━━━━━━━━━━━━━━━━\u001b[0m\u001b[37m\u001b[0m \u001b[1m0s\u001b[0m 12ms/step - accuracy: 0.9449 - loss: 0.2499 - val_accuracy: 0.1935 - val_loss: 6.6249\n",
      "Epoch 97/100\n",
      "\u001b[1m4/4\u001b[0m \u001b[32m━━━━━━━━━━━━━━━━━━━━\u001b[0m\u001b[37m\u001b[0m \u001b[1m0s\u001b[0m 11ms/step - accuracy: 0.9534 - loss: 0.2259 - val_accuracy: 0.1935 - val_loss: 6.6289\n",
      "Epoch 98/100\n",
      "\u001b[1m4/4\u001b[0m \u001b[32m━━━━━━━━━━━━━━━━━━━━\u001b[0m\u001b[37m\u001b[0m \u001b[1m0s\u001b[0m 11ms/step - accuracy: 0.9418 - loss: 0.2382 - val_accuracy: 0.1935 - val_loss: 6.6303\n",
      "Epoch 99/100\n",
      "\u001b[1m4/4\u001b[0m \u001b[32m━━━━━━━━━━━━━━━━━━━━\u001b[0m\u001b[37m\u001b[0m \u001b[1m0s\u001b[0m 14ms/step - accuracy: 0.9470 - loss: 0.2224 - val_accuracy: 0.1935 - val_loss: 6.6405\n",
      "Epoch 100/100\n",
      "\u001b[1m4/4\u001b[0m \u001b[32m━━━━━━━━━━━━━━━━━━━━\u001b[0m\u001b[37m\u001b[0m \u001b[1m0s\u001b[0m 11ms/step - accuracy: 0.9616 - loss: 0.1948 - val_accuracy: 0.1935 - val_loss: 6.6518\n"
     ]
    }
   ],
   "source": [
    "history = model.fit(\n",
    "    X_array, y_one_hot,\n",
    "    epochs=100,\n",
    "    batch_size=32,\n",
    "    validation_split=0.2,\n",
    "    verbose=1\n",
    ")"
   ]
  },
  {
   "cell_type": "code",
   "execution_count": 15,
   "id": "3206cd8d",
   "metadata": {
    "execution": {
     "iopub.execute_input": "2025-04-28T23:04:32.014923Z",
     "iopub.status.busy": "2025-04-28T23:04:32.014644Z",
     "iopub.status.idle": "2025-04-28T23:04:32.433692Z",
     "shell.execute_reply": "2025-04-28T23:04:32.432868Z"
    },
    "papermill": {
     "duration": 0.436013,
     "end_time": "2025-04-28T23:04:32.434913",
     "exception": false,
     "start_time": "2025-04-28T23:04:31.9989",
     "status": "completed"
    },
    "tags": []
   },
   "outputs": [
    {
     "data": {
      "image/png": "[encoded data removed]",
      "text/plain": [
       "<Figure size 1200x400 with 2 Axes>"
      ]
     },
     "metadata": {},
     "output_type": "display_data"
    }
   ],
   "source": [
    "plt.figure(figsize=(12, 4))\n",
    "\n",
    "plt.subplot(1, 2, 1)\n",
    "plt.plot(history.history['accuracy'])\n",
    "plt.plot(history.history['val_accuracy'])\n",
    "plt.title('Model Accuracy')\n",
    "plt.xlabel('Epoch')\n",
    "plt.ylabel('Accuracy')\n",
    "plt.legend(['Train', 'Validation'], loc='lower right')\n",
    "\n",
    "plt.subplot(1, 2, 2)\n",
    "plt.plot(history.history['loss'])\n",
    "plt.plot(history.history['val_loss'])\n",
    "plt.title('Model Loss')\n",
    "plt.xlabel('Epoch')\n",
    "plt.ylabel('Loss')\n",
    "plt.legend(['Train', 'Validation'], loc='upper right')\n",
    "\n",
    "plt.tight_layout()\n",
    "plt.show()"
   ]
  },
  {
   "cell_type": "code",
   "execution_count": 16,
   "id": "98752fe9",
   "metadata": {
    "execution": {
     "iopub.execute_input": "2025-04-28T23:04:32.466631Z",
     "iopub.status.busy": "2025-04-28T23:04:32.466391Z",
     "iopub.status.idle": "2025-04-28T23:04:32.471148Z",
     "shell.execute_reply": "2025-04-28T23:04:32.470549Z"
    },
    "papermill": {
     "duration": 0.021619,
     "end_time": "2025-04-28T23:04:32.472213",
     "exception": false,
     "start_time": "2025-04-28T23:04:32.450594",
     "status": "completed"
    },
    "tags": []
   },
   "outputs": [],
   "source": [
    "def predict_next_word(input_text):\n",
    "    # Clean and tokenize the input text\n",
    "    words = input_text.lower().split()\n",
    "    \n",
    "    # Check if we have exactly 3 words\n",
    "    if len(words) != 3:\n",
    "        return \"Please provide exactly 3 words as input.\"\n",
    "    \n",
    "    # Check if all words are in the vocabulary\n",
    "    for word in words:\n",
    "        if word not in word_index:\n",
    "            return f\"Word '{word}' is not in the vocabulary. Please try another word.\"\n",
    "    \n",
    "    # Convert to sequence\n",
    "    seq = tokenizer.texts_to_sequences([input_text])[0]\n",
    "    \n",
    "    # Make prediction\n",
    "    prediction = model.predict(np.array([seq]))\n",
    "    predicted_index = np.argmax(prediction)\n",
    "    \n",
    "    # Get the word from the index\n",
    "    for word, index in word_index.items():\n",
    "        if index == predicted_index:\n",
    "            return word\n",
    "    \n",
    "    return \"Could not find the predicted word in the vocabulary.\""
   ]
  },
  {
   "cell_type": "code",
   "execution_count": 17,
   "id": "67cfc829",
   "metadata": {
    "execution": {
     "iopub.execute_input": "2025-04-28T23:04:32.503652Z",
     "iopub.status.busy": "2025-04-28T23:04:32.503438Z",
     "iopub.status.idle": "2025-04-28T23:04:32.935495Z",
     "shell.execute_reply": "2025-04-28T23:04:32.934678Z"
    },
    "papermill": {
     "duration": 0.449278,
     "end_time": "2025-04-28T23:04:32.936787",
     "exception": false,
     "start_time": "2025-04-28T23:04:32.487509",
     "status": "completed"
    },
    "tags": []
   },
   "outputs": [
    {
     "name": "stdout",
     "output_type": "stream",
     "text": [
      "\u001b[1m1/1\u001b[0m \u001b[32m━━━━━━━━━━━━━━━━━━━━\u001b[0m\u001b[37m\u001b[0m \u001b[1m0s\u001b[0m 207ms/step\n",
      "Input: 'once upon a'\n",
      "Predicted next word: 'time'\n",
      "Complete sequence: 'once upon a time'\n",
      "--------------------------------------------------\n",
      "\u001b[1m1/1\u001b[0m \u001b[32m━━━━━━━━━━━━━━━━━━━━\u001b[0m\u001b[37m\u001b[0m \u001b[1m0s\u001b[0m 16ms/step\n",
      "Input: 'little red riding'\n",
      "Predicted next word: 'hood'\n",
      "Complete sequence: 'little red riding hood'\n",
      "--------------------------------------------------\n",
      "\u001b[1m1/1\u001b[0m \u001b[32m━━━━━━━━━━━━━━━━━━━━\u001b[0m\u001b[37m\u001b[0m \u001b[1m0s\u001b[0m 16ms/step\n",
      "Input: 'in the forest'\n",
      "Predicted next word: 'but'\n",
      "Complete sequence: 'in the forest but'\n",
      "--------------------------------------------------\n",
      "\u001b[1m1/1\u001b[0m \u001b[32m━━━━━━━━━━━━━━━━━━━━\u001b[0m\u001b[37m\u001b[0m \u001b[1m0s\u001b[0m 16ms/step\n",
      "Input: 'she liked to'\n",
      "Predicted next word: 'wear'\n",
      "Complete sequence: 'she liked to wear'\n",
      "--------------------------------------------------\n"
     ]
    }
   ],
   "source": [
    "test_inputs = [\n",
    "    \"once upon a\",\n",
    "    \"little red riding\",\n",
    "    \"in the forest\",\n",
    "    \"she liked to\"\n",
    "]\n",
    "\n",
    "for input_text in test_inputs:\n",
    "    predicted_word = predict_next_word(input_text)\n",
    "    print(f\"Input: '{input_text}'\")\n",
    "    print(f\"Predicted next word: '{predicted_word}'\")\n",
    "    print(f\"Complete sequence: '{input_text} {predicted_word}'\")\n",
    "    print(\"-\" * 50)"
   ]
  },
  {
   "cell_type": "code",
   "execution_count": 18,
   "id": "62ae9b0e",
   "metadata": {
    "execution": {
     "iopub.execute_input": "2025-04-28T23:04:32.972262Z",
     "iopub.status.busy": "2025-04-28T23:04:32.972045Z",
     "iopub.status.idle": "2025-04-28T23:04:33.030842Z",
     "shell.execute_reply": "2025-04-28T23:04:33.030096Z"
    },
    "papermill": {
     "duration": 0.078082,
     "end_time": "2025-04-28T23:04:33.03205",
     "exception": false,
     "start_time": "2025-04-28T23:04:32.953968",
     "status": "completed"
    },
    "tags": []
   },
   "outputs": [
    {
     "name": "stdout",
     "output_type": "stream",
     "text": [
      "\u001b[1m1/1\u001b[0m \u001b[32m━━━━━━━━━━━━━━━━━━━━\u001b[0m\u001b[37m\u001b[0m \u001b[1m0s\u001b[0m 15ms/step\n",
      "Predicted next word: 'wolf'\n",
      "Complete sequence: 'girl told the wolf'\n"
     ]
    }
   ],
   "source": [
    "user_input = \"girl told the\"\n",
    "predicted_word = predict_next_word(user_input)\n",
    "print(f\"Predicted next word: '{predicted_word}'\")\n",
    "print(f\"Complete sequence: '{user_input} {predicted_word}'\")\n"
   ]
  }
 ],
 "metadata": {
  "kaggle": {
   "accelerator": "nvidiaTeslaT4",
   "dataSources": [],
   "dockerImageVersionId": 31011,
   "isGpuEnabled": true,
   "isInternetEnabled": true,
   "language": "python",
   "sourceType": "notebook"
  },
  "kernelspec": {
   "display_name": "Python 3",
   "language": "python",
   "name": "python3"
  },
  "language_info": {
   "codemirror_mode": {
    "name": "ipython",
    "version": 3
   },
   "file_extension": ".py",
   "mimetype": "text/x-python",
   "name": "python",
   "nbconvert_exporter": "python",
   "pygments_lexer": "ipython3",
   "version": "3.11.11"
  },
  "papermill": {
   "default_parameters": {},
   "duration": 36.447589,
   "end_time": "2025-04-28T23:04:36.144112",
   "environment_variables": {},
   "exception": null,
   "input_path": "__notebook__.ipynb",
   "output_path": "__notebook__.ipynb",
   "parameters": {},
   "start_time": "2025-04-28T23:03:59.696523",
   "version": "2.6.0"
  }
 },
 "nbformat": 4,
 "nbformat_minor": 5
}
